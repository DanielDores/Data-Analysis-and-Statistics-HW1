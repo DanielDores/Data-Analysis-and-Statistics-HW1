{
 "cells": [
  {
   "cell_type": "code",
   "execution_count": 56,
   "metadata": {
    "collapsed": true
   },
   "outputs": [],
   "source": [
    "import matplotlib\n",
    "import matplotlib.pyplot as plt\n",
    "import numpy as np\n",
    "import matplotlib.cm as cm\n",
    "import matplotlib.mlab as mlab\n",
    "from sympy import symbols, diff"
   ]
  },
  {
   "cell_type": "code",
   "execution_count": 52,
   "metadata": {
    "collapsed": false
   },
   "outputs": [
    {
     "data": {
      "text/plain": [
       "array([  2.45000000e+00,  -3.10000000e+01,   2.86300000e+01,\n",
       "         3.41000000e+00,   1.51000000e+00,   1.49000000e+00,\n",
       "        -1.83000000e+00,  -2.72900000e+01,   4.24000000e+00,\n",
       "         3.24000000e+01,  -2.68000000e+00,   5.42300000e+01,\n",
       "        -5.84100000e+01,  -1.12000000e+00,  -1.66000000e+00,\n",
       "        -3.50000000e-01,   1.26000000e+00,   1.13000000e+00,\n",
       "        -3.71000000e+00,   6.92500000e+01,   9.93000000e+00,\n",
       "        -1.11000000e+00,   6.85300000e+01,  -5.19000000e+00,\n",
       "         2.68300000e+01,  -1.58700000e+01,   1.02500000e+01,\n",
       "        -5.32800000e+01,  -3.93000000e+00,   7.82800000e+01,\n",
       "        -1.27700000e+01,   5.77700000e+01,   1.51100000e+01,\n",
       "         5.83900000e+01,  -5.04000000e+00,  -6.27400000e+01,\n",
       "         1.82000000e+00,  -1.02520000e+02,   4.46000000e+00,\n",
       "         6.61000000e+00,   1.06380000e+02,   4.29000000e+00,\n",
       "        -8.14000000e+00,  -4.42000000e+00,  -1.26800000e+01,\n",
       "         8.23000000e+00,   3.71000000e+00,   4.50000000e+00,\n",
       "        -3.64000000e+00,   9.03000000e+00,  -8.76000000e+00,\n",
       "         3.32000000e+00,  -5.47000000e+00,   1.20520000e+02,\n",
       "         1.25470000e+02,   1.14830000e+02,   9.83000000e+00,\n",
       "         5.69600000e+01,   9.81000000e+00,   6.86000000e+00,\n",
       "        -3.43000000e+00,  -5.67200000e+01,  -8.20000000e+00,\n",
       "         4.20000000e+00,   1.76000000e+00,   3.56000000e+00,\n",
       "         1.01000000e+00,  -7.00000000e-02,   1.91000000e+00,\n",
       "        -2.67000000e+00,  -1.09000000e+00,  -5.25000000e+00,\n",
       "        -2.45000000e+00,  -4.23300000e+01,   9.03600000e+01,\n",
       "        -3.30000000e+00,   1.63600000e+01,   1.01590000e+02,\n",
       "         1.03770000e+02,   4.20000000e-01,  -1.60000000e-01,\n",
       "        -8.76400000e+01,  -9.84000000e+00,   1.27600000e+01,\n",
       "        -1.46110000e+02,  -8.23000000e+00,  -1.38010000e+02,\n",
       "        -1.17300000e+01,  -1.24550000e+02,  -8.20000000e-01,\n",
       "         3.50000000e-01,   5.40900000e+01,   5.24500000e+01,\n",
       "         1.09810000e+02,  -3.41400000e+01,  -3.40000000e-01,\n",
       "        -1.36000000e+01,   1.07300000e+01,   1.90900000e+01,\n",
       "         9.00000000e+00,   5.20000000e-01,   1.26140000e+02,\n",
       "        -9.85500000e+01,  -9.84300000e+01,  -5.75000000e+00,\n",
       "        -4.11200000e+01,   4.55000000e+00,   5.50000000e-01,\n",
       "         3.69600000e+01,   3.51600000e+01,  -4.55500000e+01,\n",
       "        -6.30000000e-01,  -4.55800000e+01,   4.70900000e+01,\n",
       "        -2.39000000e+00,   4.96700000e+01,   5.22000000e+00,\n",
       "        -1.39330000e+02,   4.40000000e+01,  -6.09000000e+00,\n",
       "        -5.93000000e+00,   6.60000000e-01,   4.83000000e+00,\n",
       "         5.40000000e+00,  -4.70000000e+00,   6.42000000e+00,\n",
       "         2.23000000e+00,   4.23000000e+00,  -8.81000000e+00,\n",
       "         3.62400000e+01,   3.22400000e+01,   1.11000000e+01,\n",
       "        -2.90100000e+01,  -1.31110000e+02,  -1.30340000e+02,\n",
       "         7.40000000e-01,  -7.35400000e+01,  -7.35000000e+01,\n",
       "        -3.78000000e+00,   3.91000000e+00,   6.70000000e-01,\n",
       "         2.12100000e+01,   1.80300000e+01,  -3.67000000e+00,\n",
       "         6.63000000e+00,   2.91000000e+00,   7.47000000e+00,\n",
       "         2.38700000e+01,  -9.54500000e+01,   9.52500000e+01,\n",
       "        -1.50800000e+01,  -7.17000000e+00,   1.14000000e+00,\n",
       "        -9.04600000e+01,  -9.86600000e+01,  -3.74000000e+00,\n",
       "        -3.87000000e+00,  -4.23000000e+00,   4.60000000e+00,\n",
       "         4.10000000e+00,  -9.80400000e+01,   4.20000000e-01,\n",
       "        -9.01500000e+01,   7.70000000e-01])"
      ]
     },
     "execution_count": 52,
     "metadata": {},
     "output_type": "execute_result"
    }
   ],
   "source": [
    "np.loadtxt('c2308_xover.txt', comments = '%')"
   ]
  },
  {
   "cell_type": "code",
   "execution_count": 65,
   "metadata": {
    "collapsed": false
   },
   "outputs": [
    {
     "data": {
      "image/png": "[encoded data removed]",
      "text/plain": [
       "<matplotlib.figure.Figure at 0x935f5f8>"
      ]
     },
     "metadata": {},
     "output_type": "display_data"
    }
   ],
   "source": [
    "data = np.loadtxt('c2308_xover.txt', comments = '%')\n",
    "plt.hist(data)\n",
    "plt.title(\"Problem 1.4 Gaussian Histogram\")\n",
    "plt.xlabel(\"Value\")\n",
    "plt.ylabel(\"Frequency\")\n",
    "plt.show()"
   ]
  },
  {
   "cell_type": "code",
   "execution_count": 66,
   "metadata": {
    "collapsed": false
   },
   "outputs": [
    {
     "data": {
      "image/png": "[encoded data removed]",
      "text/plain": [
       "<matplotlib.figure.Figure at 0x84ca6d8>"
      ]
     },
     "metadata": {},
     "output_type": "display_data"
    }
   ],
   "source": [
    "plt.boxplot(data, whis=np.inf)\n",
    "plt.title(\"Problem 1.4 Box and Whisker\")\n",
    "plt.ylabel(\"Value\")\n",
    "plt.show()"
   ]
  },
  {
   "cell_type": "code",
   "execution_count": 55,
   "metadata": {
    "collapsed": false
   },
   "outputs": [
    {
     "ename": "ValueError",
     "evalue": "could not convert string to float: b'1998-09-01T00:00:00.000'",
     "output_type": "error",
     "traceback": [
      "\u001b[0;31m---------------------------------------------------------------------------\u001b[0m",
      "\u001b[0;31mValueError\u001b[0m                                Traceback (most recent call last)",
      "\u001b[0;32m<ipython-input-55-c2ad77023846>\u001b[0m in \u001b[0;36m<module>\u001b[0;34m()\u001b[0m\n\u001b[0;32m----> 1\u001b[0;31m \u001b[0mnp\u001b[0m\u001b[1;33m.\u001b[0m\u001b[0mloadtxt\u001b[0m\u001b[1;33m(\u001b[0m\u001b[1;34m'honmag_1998_09.txt'\u001b[0m\u001b[1;33m,\u001b[0m \u001b[0mcomments\u001b[0m \u001b[1;33m=\u001b[0m \u001b[1;34m'%'\u001b[0m\u001b[1;33m)\u001b[0m\u001b[1;33m\u001b[0m\u001b[0m\n\u001b[0m\u001b[1;32m      2\u001b[0m \u001b[0mnp\u001b[0m\u001b[1;33m.\u001b[0m\u001b[0mlinspace\u001b[0m\u001b[1;33m(\u001b[0m\u001b[1;36m0\u001b[0m\u001b[1;33m,\u001b[0m \u001b[1;36m30\u001b[0m\u001b[1;33m,\u001b[0m \u001b[1;36m43200\u001b[0m\u001b[1;33m)\u001b[0m\u001b[1;33m\u001b[0m\u001b[0m\n",
      "\u001b[0;32mC:\\Users\\ddores\\AppData\\Local\\Continuum\\Anaconda3\\lib\\site-packages\\numpy\\lib\\npyio.py\u001b[0m in \u001b[0;36mloadtxt\u001b[0;34m(fname, dtype, comments, delimiter, converters, skiprows, usecols, unpack, ndmin)\u001b[0m\n\u001b[1;32m    928\u001b[0m \u001b[1;33m\u001b[0m\u001b[0m\n\u001b[1;32m    929\u001b[0m             \u001b[1;31m# Convert each value according to its column and store\u001b[0m\u001b[1;33m\u001b[0m\u001b[1;33m\u001b[0m\u001b[0m\n\u001b[0;32m--> 930\u001b[0;31m             \u001b[0mitems\u001b[0m \u001b[1;33m=\u001b[0m \u001b[1;33m[\u001b[0m\u001b[0mconv\u001b[0m\u001b[1;33m(\u001b[0m\u001b[0mval\u001b[0m\u001b[1;33m)\u001b[0m \u001b[1;32mfor\u001b[0m \u001b[1;33m(\u001b[0m\u001b[0mconv\u001b[0m\u001b[1;33m,\u001b[0m \u001b[0mval\u001b[0m\u001b[1;33m)\u001b[0m \u001b[1;32min\u001b[0m \u001b[0mzip\u001b[0m\u001b[1;33m(\u001b[0m\u001b[0mconverters\u001b[0m\u001b[1;33m,\u001b[0m \u001b[0mvals\u001b[0m\u001b[1;33m)\u001b[0m\u001b[1;33m]\u001b[0m\u001b[1;33m\u001b[0m\u001b[0m\n\u001b[0m\u001b[1;32m    931\u001b[0m             \u001b[1;31m# Then pack it according to the dtype's nesting\u001b[0m\u001b[1;33m\u001b[0m\u001b[1;33m\u001b[0m\u001b[0m\n\u001b[1;32m    932\u001b[0m             \u001b[0mitems\u001b[0m \u001b[1;33m=\u001b[0m \u001b[0mpack_items\u001b[0m\u001b[1;33m(\u001b[0m\u001b[0mitems\u001b[0m\u001b[1;33m,\u001b[0m \u001b[0mpacking\u001b[0m\u001b[1;33m)\u001b[0m\u001b[1;33m\u001b[0m\u001b[0m\n",
      "\u001b[0;32mC:\\Users\\ddores\\AppData\\Local\\Continuum\\Anaconda3\\lib\\site-packages\\numpy\\lib\\npyio.py\u001b[0m in \u001b[0;36m<listcomp>\u001b[0;34m(.0)\u001b[0m\n\u001b[1;32m    928\u001b[0m \u001b[1;33m\u001b[0m\u001b[0m\n\u001b[1;32m    929\u001b[0m             \u001b[1;31m# Convert each value according to its column and store\u001b[0m\u001b[1;33m\u001b[0m\u001b[1;33m\u001b[0m\u001b[0m\n\u001b[0;32m--> 930\u001b[0;31m             \u001b[0mitems\u001b[0m \u001b[1;33m=\u001b[0m \u001b[1;33m[\u001b[0m\u001b[0mconv\u001b[0m\u001b[1;33m(\u001b[0m\u001b[0mval\u001b[0m\u001b[1;33m)\u001b[0m \u001b[1;32mfor\u001b[0m \u001b[1;33m(\u001b[0m\u001b[0mconv\u001b[0m\u001b[1;33m,\u001b[0m \u001b[0mval\u001b[0m\u001b[1;33m)\u001b[0m \u001b[1;32min\u001b[0m \u001b[0mzip\u001b[0m\u001b[1;33m(\u001b[0m\u001b[0mconverters\u001b[0m\u001b[1;33m,\u001b[0m \u001b[0mvals\u001b[0m\u001b[1;33m)\u001b[0m\u001b[1;33m]\u001b[0m\u001b[1;33m\u001b[0m\u001b[0m\n\u001b[0m\u001b[1;32m    931\u001b[0m             \u001b[1;31m# Then pack it according to the dtype's nesting\u001b[0m\u001b[1;33m\u001b[0m\u001b[1;33m\u001b[0m\u001b[0m\n\u001b[1;32m    932\u001b[0m             \u001b[0mitems\u001b[0m \u001b[1;33m=\u001b[0m \u001b[0mpack_items\u001b[0m\u001b[1;33m(\u001b[0m\u001b[0mitems\u001b[0m\u001b[1;33m,\u001b[0m \u001b[0mpacking\u001b[0m\u001b[1;33m)\u001b[0m\u001b[1;33m\u001b[0m\u001b[0m\n",
      "\u001b[0;32mC:\\Users\\ddores\\AppData\\Local\\Continuum\\Anaconda3\\lib\\site-packages\\numpy\\lib\\npyio.py\u001b[0m in \u001b[0;36mfloatconv\u001b[0;34m(x)\u001b[0m\n\u001b[1;32m    657\u001b[0m         \u001b[1;32mif\u001b[0m \u001b[1;34mb'0x'\u001b[0m \u001b[1;32min\u001b[0m \u001b[0mx\u001b[0m\u001b[1;33m:\u001b[0m\u001b[1;33m\u001b[0m\u001b[0m\n\u001b[1;32m    658\u001b[0m             \u001b[1;32mreturn\u001b[0m \u001b[0mfloat\u001b[0m\u001b[1;33m.\u001b[0m\u001b[0mfromhex\u001b[0m\u001b[1;33m(\u001b[0m\u001b[0masstr\u001b[0m\u001b[1;33m(\u001b[0m\u001b[0mx\u001b[0m\u001b[1;33m)\u001b[0m\u001b[1;33m)\u001b[0m\u001b[1;33m\u001b[0m\u001b[0m\n\u001b[0;32m--> 659\u001b[0;31m         \u001b[1;32mreturn\u001b[0m \u001b[0mfloat\u001b[0m\u001b[1;33m(\u001b[0m\u001b[0mx\u001b[0m\u001b[1;33m)\u001b[0m\u001b[1;33m\u001b[0m\u001b[0m\n\u001b[0m\u001b[1;32m    660\u001b[0m \u001b[1;33m\u001b[0m\u001b[0m\n\u001b[1;32m    661\u001b[0m     \u001b[0mtyp\u001b[0m \u001b[1;33m=\u001b[0m \u001b[0mdtype\u001b[0m\u001b[1;33m.\u001b[0m\u001b[0mtype\u001b[0m\u001b[1;33m\u001b[0m\u001b[0m\n",
      "\u001b[0;31mValueError\u001b[0m: could not convert string to float: b'1998-09-01T00:00:00.000'"
     ]
    }
   ],
   "source": [
    "#Python unable to load the time and date data as given\n",
    "#Not yet an expert in Python to find the proper codes to fix this before/durig loading\n",
    "#Couldn't find a way with standard Excel edits to change the date/time\n",
    "\n",
    "np.loadtxt('honmag_1998_09.txt', comments = '%')\n",
    "np.linspace(0, 30, 43200)"
   ]
  },
  {
   "cell_type": "code",
   "execution_count": 40,
   "metadata": {
    "collapsed": false
   },
   "outputs": [
    {
     "data": {
      "text/plain": [
       "0.223606797749979"
      ]
     },
     "execution_count": 40,
     "metadata": {},
     "output_type": "execute_result"
    }
   ],
   "source": [
    "((0.1**2)+(0.2**2))**(.5)"
   ]
  },
  {
   "cell_type": "code",
   "execution_count": 41,
   "metadata": {
    "collapsed": false
   },
   "outputs": [
    {
     "data": {
      "text/plain": [
       "4.129999999999999"
      ]
     },
     "execution_count": 41,
     "metadata": {},
     "output_type": "execute_result"
    }
   ],
   "source": [
    "29.66-25.53\n",
    "#4.13 +/- 0.2236"
   ]
  },
  {
   "cell_type": "code",
   "execution_count": 46,
   "metadata": {
    "collapsed": false
   },
   "outputs": [
    {
     "data": {
      "text/plain": [
       "753823.4173563584"
      ]
     },
     "execution_count": 46,
     "metadata": {},
     "output_type": "execute_result"
    }
   ],
   "source": [
    "#Are of Crater 1\n",
    "\n",
    "#circumfrerence = 2 pi radius\n",
    "#radius = circumferance/2pi\n",
    "#uncertainty = .01% of circumference = c*.01\n",
    "#area = pi*r^2\n",
    "c = 12311 = number of clicks\n",
    "3.1415*((c*.25)/(2*3.1415))**2"
   ]
  },
  {
   "cell_type": "code",
   "execution_count": 50,
   "metadata": {
    "collapsed": false
   },
   "outputs": [
    {
     "data": {
      "text/plain": [
       "30.7775"
      ]
     },
     "execution_count": 50,
     "metadata": {},
     "output_type": "execute_result"
    }
   ],
   "source": [
    "#uncertainty of circumference of crater 1\n",
    "c*.25*.01"
   ]
  },
  {
   "cell_type": "code",
   "execution_count": 62,
   "metadata": {
    "collapsed": false,
    "scrolled": false
   },
   "outputs": [
    {
     "ename": "ValueError",
     "evalue": "sequence too large; cannot be greater than 32",
     "output_type": "error",
     "traceback": [
      "\u001b[0;31m---------------------------------------------------------------------------\u001b[0m",
      "\u001b[0;31mValueError\u001b[0m                                Traceback (most recent call last)",
      "\u001b[0;32m<ipython-input-62-1b5612fa6ccb>\u001b[0m in \u001b[0;36m<module>\u001b[0;34m()\u001b[0m\n\u001b[1;32m      1\u001b[0m \u001b[1;31m#square root of the partial derivative of the function multiplied by uncertainty squared\u001b[0m\u001b[1;33m\u001b[0m\u001b[1;33m\u001b[0m\u001b[0m\n\u001b[0;32m----> 2\u001b[0;31m \u001b[0mdiff\u001b[0m\u001b[1;33m(\u001b[0m\u001b[1;36m3.1415\u001b[0m\u001b[1;33m*\u001b[0m\u001b[1;33m(\u001b[0m\u001b[1;33m(\u001b[0m\u001b[0mx\u001b[0m\u001b[1;33m*\u001b[0m\u001b[1;36m.25\u001b[0m\u001b[1;33m)\u001b[0m\u001b[1;33m/\u001b[0m\u001b[1;33m(\u001b[0m\u001b[1;36m2\u001b[0m\u001b[1;33m*\u001b[0m\u001b[1;36m3.1415\u001b[0m\u001b[1;33m)\u001b[0m\u001b[1;33m)\u001b[0m\u001b[1;33m**\u001b[0m\u001b[1;36m2\u001b[0m\u001b[1;33m,\u001b[0m \u001b[0mx\u001b[0m\u001b[1;33m)\u001b[0m\u001b[1;33m\u001b[0m\u001b[0m\n\u001b[0m",
      "\u001b[0;32mC:\\Users\\ddores\\AppData\\Local\\Continuum\\Anaconda3\\lib\\site-packages\\sympy\\core\\function.py\u001b[0m in \u001b[0;36mdiff\u001b[0;34m(f, *symbols, **kwargs)\u001b[0m\n\u001b[1;32m   1689\u001b[0m     \u001b[1;32mexcept\u001b[0m \u001b[0mAttributeError\u001b[0m\u001b[1;33m:\u001b[0m\u001b[1;33m\u001b[0m\u001b[0m\n\u001b[1;32m   1690\u001b[0m         \u001b[1;32mpass\u001b[0m\u001b[1;33m\u001b[0m\u001b[0m\n\u001b[0;32m-> 1691\u001b[0;31m     \u001b[1;32mreturn\u001b[0m \u001b[0mDerivative\u001b[0m\u001b[1;33m(\u001b[0m\u001b[0mf\u001b[0m\u001b[1;33m,\u001b[0m \u001b[1;33m*\u001b[0m\u001b[0msymbols\u001b[0m\u001b[1;33m,\u001b[0m \u001b[1;33m**\u001b[0m\u001b[0mkwargs\u001b[0m\u001b[1;33m)\u001b[0m\u001b[1;33m\u001b[0m\u001b[0m\n\u001b[0m\u001b[1;32m   1692\u001b[0m \u001b[1;33m\u001b[0m\u001b[0m\n\u001b[1;32m   1693\u001b[0m \u001b[1;33m\u001b[0m\u001b[0m\n",
      "\u001b[0;32mC:\\Users\\ddores\\AppData\\Local\\Continuum\\Anaconda3\\lib\\site-packages\\sympy\\core\\function.py\u001b[0m in \u001b[0;36m__new__\u001b[0;34m(cls, expr, *variables, **assumptions)\u001b[0m\n\u001b[1;32m   1016\u001b[0m     \u001b[1;32mdef\u001b[0m \u001b[0m__new__\u001b[0m\u001b[1;33m(\u001b[0m\u001b[0mcls\u001b[0m\u001b[1;33m,\u001b[0m \u001b[0mexpr\u001b[0m\u001b[1;33m,\u001b[0m \u001b[1;33m*\u001b[0m\u001b[0mvariables\u001b[0m\u001b[1;33m,\u001b[0m \u001b[1;33m**\u001b[0m\u001b[0massumptions\u001b[0m\u001b[1;33m)\u001b[0m\u001b[1;33m:\u001b[0m\u001b[1;33m\u001b[0m\u001b[0m\n\u001b[1;32m   1017\u001b[0m \u001b[1;33m\u001b[0m\u001b[0m\n\u001b[0;32m-> 1018\u001b[0;31m         \u001b[0mexpr\u001b[0m \u001b[1;33m=\u001b[0m \u001b[0msympify\u001b[0m\u001b[1;33m(\u001b[0m\u001b[0mexpr\u001b[0m\u001b[1;33m)\u001b[0m\u001b[1;33m\u001b[0m\u001b[0m\n\u001b[0m\u001b[1;32m   1019\u001b[0m \u001b[1;33m\u001b[0m\u001b[0m\n\u001b[1;32m   1020\u001b[0m         \u001b[1;31m# There are no variables, we differentiate wrt all of the free symbols\u001b[0m\u001b[1;33m\u001b[0m\u001b[1;33m\u001b[0m\u001b[0m\n",
      "\u001b[0;32mC:\\Users\\ddores\\AppData\\Local\\Continuum\\Anaconda3\\lib\\site-packages\\sympy\\core\\sympify.py\u001b[0m in \u001b[0;36msympify\u001b[0;34m(a, locals, convert_xor, strict, rational, evaluate)\u001b[0m\n\u001b[1;32m    280\u001b[0m         \u001b[1;32mtry\u001b[0m\u001b[1;33m:\u001b[0m\u001b[1;33m\u001b[0m\u001b[0m\n\u001b[1;32m    281\u001b[0m             return type(a)([sympify(x, locals=locals, convert_xor=convert_xor,\n\u001b[0;32m--> 282\u001b[0;31m                 rational=rational) for x in a])\n\u001b[0m\u001b[1;32m    283\u001b[0m         \u001b[1;32mexcept\u001b[0m \u001b[0mTypeError\u001b[0m\u001b[1;33m:\u001b[0m\u001b[1;33m\u001b[0m\u001b[0m\n\u001b[1;32m    284\u001b[0m             \u001b[1;31m# Not all iterables are rebuildable with their type.\u001b[0m\u001b[1;33m\u001b[0m\u001b[1;33m\u001b[0m\u001b[0m\n",
      "\u001b[0;31mValueError\u001b[0m: sequence too large; cannot be greater than 32"
     ]
    }
   ],
   "source": [
    "#square root of the partial derivative of the function multiplied by uncertainty squared\n",
    "#x = number of clicks\n",
    "diff(3.1415*((x*.25)/(2*3.1415))**2, x)"
   ]
  },
  {
   "cell_type": "code",
   "execution_count": 63,
   "metadata": {
    "collapsed": true
   },
   "outputs": [],
   "source": [
    "#square root of partial derivative of crater 1 with respect to c, the measured circumference, squared, multiplied by the uncertainty of crater 1, squared"
   ]
  },
  {
   "cell_type": "code",
   "execution_count": 47,
   "metadata": {
    "collapsed": false
   },
   "outputs": [
    {
     "data": {
      "text/plain": [
       "406911.63158522994"
      ]
     },
     "execution_count": 47,
     "metadata": {},
     "output_type": "execute_result"
    }
   ],
   "source": [
    "#Area of Crater 2\n",
    "\n",
    "#circumfrerence = 2 pi radius\n",
    "#radius = circumferance/2pi\n",
    "#uncertainty = .01% of circumference = d*.01\n",
    "#area = pi*r^2\n",
    "d = 9045 = number of clicks\n",
    "3.1415*((d*.25)/(2*3.1415))**2"
   ]
  },
  {
   "cell_type": "code",
   "execution_count": 49,
   "metadata": {
    "collapsed": false
   },
   "outputs": [
    {
     "data": {
      "text/plain": [
       "22.6125"
      ]
     },
     "execution_count": 49,
     "metadata": {},
     "output_type": "execute_result"
    }
   ],
   "source": [
    "#uncertainty of circumference crater 2\n",
    "d*.25*.01"
   ]
  },
  {
   "cell_type": "code",
   "execution_count": 64,
   "metadata": {
    "collapsed": true
   },
   "outputs": [],
   "source": [
    "#square root of partial derivative of crater 1 with respect to c, the measured circumference, squared, multiplied by the uncertainty of crater 1, squared"
   ]
  },
  {
   "cell_type": "code",
   "execution_count": null,
   "metadata": {
    "collapsed": true
   },
   "outputs": [],
   "source": []
  }
 ],
 "metadata": {
  "kernelspec": {
   "display_name": "Python 3",
   "language": "python",
   "name": "python3"
  },
  "language_info": {
   "codemirror_mode": {
    "name": "ipython",
    "version": 3
   },
   "file_extension": ".py",
   "mimetype": "text/x-python",
   "name": "python",
   "nbconvert_exporter": "python",
   "pygments_lexer": "ipython3",
   "version": "3.6.0"
  }
 },
 "nbformat": 4,
 "nbformat_minor": 2
}
